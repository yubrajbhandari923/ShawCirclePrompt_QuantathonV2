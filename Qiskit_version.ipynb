{
 "cells": [
  {
   "cell_type": "markdown",
   "id": "3f35e68a",
   "metadata": {},
   "source": [
    "This runs with in Qiskit 1.2.0 environment provided by qbraid."
   ]
  },
  {
   "cell_type": "code",
   "execution_count": 88,
   "id": "730f9799-677c-45a5-9db7-e9e422af418d",
   "metadata": {},
   "outputs": [],
   "source": [
    "import os\n",
    "import numpy as np\n",
    "import pandas as pd\n",
    "from qiskit.quantum_info import SparsePauliOp\n",
    "from qiskit_algorithms import QAOA, SamplingVQE\n",
    "from qiskit_algorithms.optimizers import COBYLA"
   ]
  },
  {
   "cell_type": "markdown",
   "id": "1781b325",
   "metadata": {},
   "source": [
    "Sampler setup"
   ]
  },
  {
   "cell_type": "code",
   "execution_count": null,
   "id": "3fb4870e-a12f-4781-a35f-6ed3ed244e0f",
   "metadata": {},
   "outputs": [],
   "source": [
    "USE_BACKEND = \"aer\"\n",
    "\n",
    "from qiskit_aer.primitives import Sampler as AerSampler\n",
    "sampler = AerSampler(run_options={\"shots\": 4096})"
   ]
  },
  {
   "cell_type": "markdown",
   "id": "e63d47d2",
   "metadata": {},
   "source": [
    "Loading data"
   ]
  },
  {
   "cell_type": "code",
   "execution_count": null,
   "id": "9c354d6f-2b44-4d3e-a192-dbee4c36a9e1",
   "metadata": {},
   "outputs": [
    {
     "name": "stdout",
     "output_type": "stream",
     "text": [
      "X shape: (38, 8)  J shape: (8, 8)\n"
     ]
    }
   ],
   "source": [
    "tickers_path = \"data/prices.csv\"\n",
    "\n",
    "if not os.path.exists(tickers_path):\n",
    "    import yfinance as yf\n",
    "    os.makedirs(\"data\", exist_ok=True)\n",
    "    tickers = ['GOOG', 'XOM', 'AAPL', 'AMZN', 'GLD', 'DUK', 'SO', 'AEP']\n",
    "    df = yf.download(tickers, start=\"2017-01-01\", end=\"2017-03-01\",\n",
    "                     group_by=\"ticker\", auto_adjust=True)\n",
    "    df = df.stack(level=0).rename_axis(['Date', 'Ticker']).reset_index()\n",
    "    df.to_csv(tickers_path, index=False)\n",
    "else:\n",
    "    df = pd.read_csv(tickers_path)\n",
    "\n",
    "df[\"Date\"] = pd.to_datetime(df[\"Date\"])\n",
    "df = df.sort_values([\"Ticker\", \"Date\"])\n",
    "df[\"Return\"] = df.groupby(\"Ticker\")[\"Close\"].pct_change().fillna(0)\n",
    "df[\"LogReturn\"] = np.log1p(df[\"Return\"])\n",
    "\n",
    "log_return_vectors = df.groupby(\"Ticker\")[\"LogReturn\"].apply(np.array)\n",
    "log_return_vectors = log_return_vectors.apply(lambda x: x[x != 0])\n",
    "\n",
    "tickers = log_return_vectors.index.tolist()\n",
    "stacked_data = np.vstack(log_return_vectors.values)\n",
    "X = stacked_data.T\n",
    "J = stacked_data @ stacked_data.T\n",
    "print(\"X shape:\", X.shape, \" J shape:\", J.shape)"
   ]
  },
  {
   "cell_type": "markdown",
   "id": "8000d147",
   "metadata": {},
   "source": [
    "Helper functions"
   ]
  },
  {
   "cell_type": "code",
   "execution_count": null,
   "id": "286dde55-8ad4-4d84-b18a-e46263a7cbde",
   "metadata": {},
   "outputs": [],
   "source": [
    "def Phi(T):\n",
    "    U, _, Vt = np.linalg.svd(T, full_matrices=False)\n",
    "    return U @ Vt\n",
    "\n",
    "def deflate_J(J, b):\n",
    "    r = float(b.T @ J @ b)\n",
    "    bbT = np.outer(b, b)\n",
    "    return J - (2/r) * (J @ bbT @ J) + (J @ bbT @ J @ bbT @ J) / (r**2)\n",
    "\n",
    "def ising_op_from_J(J):\n",
    "    D = J.shape[0]\n",
    "    paulis, coeffs = [], []\n",
    "    for i in range(D):\n",
    "        for j in range(i+1, D):\n",
    "            coeff = -2.0 * J[i, j]\n",
    "            if abs(coeff) > 1e-12:\n",
    "                z = ['I'] * D\n",
    "                z[i] = z[j] = 'Z'\n",
    "                paulis.append(''.join(reversed(z)))\n",
    "                coeffs.append(coeff)\n",
    "    if not paulis:\n",
    "        return SparsePauliOp.from_list([('I'*D, 0.0)])\n",
    "    return SparsePauliOp.from_list(list(zip(paulis, coeffs)))"
   ]
  },
  {
   "cell_type": "markdown",
   "id": "d62c6a3b",
   "metadata": {},
   "source": [
    "QAOA solver for each component"
   ]
  },
  {
   "cell_type": "code",
   "execution_count": null,
   "id": "fb1f89a0-ad2b-4ed2-8c8d-b8aa7a399887",
   "metadata": {},
   "outputs": [],
   "source": [
    "def solve_component_qaoa(J, sampler, reps=2, shots=4096):\n",
    "    \"\"\"\n",
    "    Solve for spin vector b ∈ {-1,+1}^D that maximizes bᵀ J b\n",
    "    using QAOA (Qiskit 1.2+).\n",
    "    \"\"\"\n",
    "    H = ising_op_from_J(J)\n",
    "    opt = COBYLA(maxiter=200)\n",
    "\n",
    "    qaoa = QAOA(sampler=sampler, optimizer=opt, reps=reps)\n",
    "    result = qaoa.compute_minimum_eigenvalue(H)\n",
    "\n",
    "    qdist = result.eigenstate  # quasi-distribution\n",
    "    best_key, best_prob = max(qdist.items(), key=lambda kv: kv[1])\n",
    "\n",
    "    # Handle both string and integer key types\n",
    "    if isinstance(best_key, str):\n",
    "        # Already a bitstring like \"0101\"\n",
    "        bits = np.array([int(c) for c in best_key[::-1]])\n",
    "    else:\n",
    "        # Convert integer index to bitstring of correct length\n",
    "        num_qubits = H.num_qubits\n",
    "        bitstring = format(best_key, f\"0{num_qubits}b\")\n",
    "        bits = np.array([int(c) for c in bitstring[::-1]])\n",
    "\n",
    "    b = 1 - 2 * bits  # map 0→+1, 1→−1\n",
    "\n",
    "    print(f\"[QAOA] best bitstring: {best_key}, as bits={bits[::-1]}\")\n",
    "    return b.astype(float)\n",
    "\n",
    "\n",
    "def do_l1_pca(J_init, X, K, sampler):\n",
    "    J = J_init.copy()\n",
    "    components = []\n",
    "    for _ in range(K):\n",
    "        b = solve_component_qaoa(J, sampler)\n",
    "        components.append(b)\n",
    "        J = deflate_J(J, b)\n",
    "    Bopt = np.vstack(components).T\n",
    "    X_Bopt = X @ Bopt\n",
    "    R_L1 = Phi(X_Bopt)\n",
    "    emb = R_L1.T @ X\n",
    "    return Bopt, R_L1, emb"
   ]
  },
  {
   "cell_type": "code",
   "execution_count": null,
   "id": "ff630383-d2a8-4bf6-be35-0822e1515161",
   "metadata": {},
   "outputs": [
    {
     "name": "stdout",
     "output_type": "stream",
     "text": [
      "[QAOA] best bitstring: 218, as bits=[1 1 0 1 1 0 1 0]\n",
      "Bopt: [ 1. -1.  1. -1. -1.  1. -1. -1.]\n"
     ]
    }
   ],
   "source": [
    "K = 1\n",
    "Bopt, R_L1, emb = do_l1_pca(J, X, K, sampler)\n",
    "print(\"Bopt:\", Bopt[:, 0])"
   ]
  },
  {
   "cell_type": "markdown",
   "id": "be3344da",
   "metadata": {},
   "source": [
    "Partition tickers by sign"
   ]
  },
  {
   "cell_type": "code",
   "execution_count": null,
   "id": "02026000-48dc-46e1-bc1b-f7d58eed8aca",
   "metadata": {},
   "outputs": [
    {
     "name": "stdout",
     "output_type": "stream",
     "text": [
      "\n",
      "Partitioned Tickers based on L1 PCA (QAOA):\n",
      "Group 1 (≥ 0): ['AAPL', 'AMZN', 'GOOG']\n",
      "Group 2 (< 0): ['AEP', 'DUK', 'GLD', 'SO', 'XOM']\n"
     ]
    }
   ],
   "source": [
    "group_pos = [tickers[i] for i, v in enumerate(Bopt[:,0]) if v >= 0]\n",
    "group_neg = [tickers[i] for i, v in enumerate(Bopt[:,0]) if v < 0]\n",
    "\n",
    "print(\"\\nPartitioned Tickers based on L1 PCA (QAOA):\")\n",
    "print(\"Group 1 (≥ 0):\", group_pos)\n",
    "print(\"Group 2 (< 0):\", group_neg)"
   ]
  },
  {
   "cell_type": "markdown",
   "id": "dc7cc15e",
   "metadata": {},
   "source": [
    "For K=2"
   ]
  },
  {
   "cell_type": "code",
   "execution_count": 92,
   "id": "5f26f943-fd71-44fa-8ba8-f541ccc6df23",
   "metadata": {},
   "outputs": [
    {
     "name": "stdout",
     "output_type": "stream",
     "text": [
      "[QAOA] best bitstring: 218, as bits=[1 1 0 1 1 0 1 0]\n",
      "[QAOA] best bitstring: 0, as bits=[0 0 0 0 0 0 0 0]\n",
      "Bopt: [ 1. -1.  1. -1. -1.  1. -1. -1.]\n"
     ]
    }
   ],
   "source": [
    "K = 2\n",
    "Bopt, R_L1, emb = do_l1_pca(J, X, K, sampler)\n",
    "print(\"Bopt:\", Bopt[:, 0])"
   ]
  },
  {
   "cell_type": "code",
   "execution_count": 93,
   "id": "51791d5c-6a5f-4eb9-a8be-67e180d32d03",
   "metadata": {},
   "outputs": [
    {
     "name": "stdout",
     "output_type": "stream",
     "text": [
      "\n",
      "Partitioned Tickers based on L1 PCA (QAOA):\n",
      "Group 1 (≥ 0): ['AAPL', 'AMZN', 'GOOG']\n",
      "Group 2 (< 0): ['AEP', 'DUK', 'GLD', 'SO', 'XOM']\n"
     ]
    }
   ],
   "source": [
    "group_pos = [tickers[i] for i, v in enumerate(Bopt[:,0]) if v >= 0]\n",
    "group_neg = [tickers[i] for i, v in enumerate(Bopt[:,0]) if v < 0]\n",
    "\n",
    "print(\"\\nPartitioned Tickers based on L1 PCA (QAOA):\")\n",
    "print(\"Group 1 (≥ 0):\", group_pos)\n",
    "print(\"Group 2 (< 0):\", group_neg)"
   ]
  }
 ],
 "metadata": {
  "kernelspec": {
   "display_name": "Python 3 [Qiskit 1.2.0]",
   "language": "python",
   "name": "python3_qiskit_9vrlwn"
  },
  "language_info": {
   "codemirror_mode": {
    "name": "ipython",
    "version": 3
   },
   "file_extension": ".py",
   "mimetype": "text/x-python",
   "name": "python",
   "nbconvert_exporter": "python",
   "pygments_lexer": "ipython3",
   "version": "3.11.9"
  }
 },
 "nbformat": 4,
 "nbformat_minor": 5
}
