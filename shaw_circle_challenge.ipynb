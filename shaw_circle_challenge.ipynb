{
 "cells": [
  {
   "cell_type": "markdown",
   "id": "e74680ab",
   "metadata": {},
   "source": [
    "# Quantum PCA for Financial Dataset\n",
    "### **Learning Objectives**\n",
    "1. Why use Principal Component Analysis (PCA)? How to use PCA?\n",
    "2. Apply PCA to a dataset. Form statistical conclusions per results.\n",
    "3. Understand and mitigate the impact of outliers and noisy data.\n",
    "3. Why use Quantum Annealing (QA)? How to use QA?\n",
    "4. Experiment with implementing a QA algorithm.\n",
    "\n",
    "#### **Principal Component Analysis**\n",
    "*Principal Component Analysis* (PCA) is a common data science procedure used for extracting key features (aka principal components) from a dataset. Knowing the principal components is helpful for dimensionality reduction, denoising, and visualization.  \n",
    "For an intuitive understanding of PCA, here is a [great rundown from IBM](https://www.ibm.com/think/topics/principal-component-analysis) and youtube has a plethora of instructive videos. Develop an understanding of the fundamentals before continuing.  \n",
    "Understand both the recursive formulation of PCA and the implementation that solves for several principal components simultaneously.  \n",
    "\n",
    "### **Quantum Annealing**\n",
    "*Quantum Annealing* (QA) is an optimization algorithm for finding the global minimum of a solution set. It works by creating quantum fluctations in input data to explore the dataset.  \n",
    "For an intuitive understanding of QA, there are also some youtube videos that have great visualizers. Here is a [great video](https://youtu.be/zvfkXjzzYOo?si=t1X2Nl-277pAQDV4) from D-Wave.\n",
    "\n",
    "### **QaPCA**\n",
    "*Quantum Annealing for Robust Principal Component Analysis* ([pdf](https://arxiv.org/pdf/2501.10431)), published in December 2024, introduced an implementation of PCA using Quantum Annealing. The goal of the article was to develop a *robust* implementation, i.e. an implementation that mitigated the impact of noise.  \n",
    "\n",
    "### **Problem Statement - Detecting and Analyzing Financial Principal Components with QAPCA**\n",
    "This challenge will have competitors build L1-PCA classically, followed by QAPCA-R, in order to visualize the natural groupings of different tickers into sectors from price movements. Competitors will be tested on how robustly their implementation manages noise from both the quantum system and the data itself.\n",
    "##### Input: Time series of stock prices\n",
    "Steps:\n",
    "1. Pre-process data\n",
    "2. Apply PCA classically. \n",
    "3. Analyze results.\n",
    "4. Construct Ising Model for Recursive QaPCA.\n",
    "5. Analyze results. How do they compare with classical PCA?\n",
    "6. Bonus."
   ]
  },
  {
   "cell_type": "markdown",
   "id": "2630864c",
   "metadata": {},
   "source": [
    "## Step 0: Downloading data\n",
    "We will be utilizing stock price data from 2018/01/01 to 2018/03/01 for various different tickers from different sectors. The list of tickers and their corresponding sector are listed as follows:\n",
    "| Ticker | Company Name           | Sector         |\n",
    "|--------|------------------------|----------------|\n",
    "| AAPL   | Apple Inc.             | Technology     |\n",
    "| AMZN   | Amazon.com Inc.        | Technology     |\n",
    "| GOOG   | Alphabet Inc Class C   | Technology     |\n",
    "| MSFT   | Microsoft Corporation  | Technology     |\n",
    "| XOM    | Exxon Mobil Corp       | Energy         |\n",
    "| GLD    | SPDR Gold Trust        | Finance        |\n",
    "| AEP    | Amer. Elec. Power Comp | Utility        |\n",
    "| DUK    | Duke Energy Corp       | Utility        |\n",
    "| SO     | Southern Co            | Utility        |"
   ]
  },
  {
   "cell_type": "code",
   "execution_count": 1,
   "id": "d0ad8d27",
   "metadata": {},
   "outputs": [],
   "source": [
    "# Handle imports\n",
    "import pandas as pd\n",
    "import yfinance as yf\n",
    "import numpy as np\n",
    "import os"
   ]
  },
  {
   "cell_type": "code",
   "execution_count": 2,
   "id": "126d642a",
   "metadata": {},
   "outputs": [
    {
     "name": "stdout",
     "output_type": "stream",
     "text": [
      "Loading data from local CSV file.\n"
     ]
    }
   ],
   "source": [
    "tickers_path = 'data/prices.csv'\n",
    "if os.path.exists(tickers_path):\n",
    "    print(\"Loading data from local CSV file.\")\n",
    "    ticker_data = pd.read_csv(tickers_path)\n",
    "else:\n",
    "    tickers = ['GOOG', 'XOM', 'AAPL', 'AMZN', 'GLD', 'DUK', 'SO', 'AEP']\n",
    "    date_range = ['2017-01-01', '2017-03-01']\n",
    "\n",
    "    ticker_data = yf.download(\n",
    "        tickers,\n",
    "        start=date_range[0],\n",
    "        end=date_range[1],\n",
    "        group_by=\"ticker\",\n",
    "        auto_adjust=True\n",
    "    )\n",
    "    ticker_data = ticker_data.stack(level=0).rename_axis(['Date', 'Ticker']).reset_index()\n",
    "\n",
    "    ticker_data.to_csv(tickers_path, index=False)"
   ]
  },
  {
   "cell_type": "code",
   "execution_count": 174,
   "id": "84822b2a",
   "metadata": {},
   "outputs": [],
   "source": [
    "import matplotlib.pyplot as plt\n",
    "import seaborn as sns\n",
    "\n",
    "def create_scatterplot(embeddings, labels, title):\n",
    "    \"\"\"Create a scatterplot with different color for each label.\"\"\"\n",
    "    plt.figure(figsize=(10, 8))\n",
    "    unique_labels = set(labels)\n",
    "    colors = sns.color_palette(\"deep\", len(unique_labels))\n",
    "    for color, label in zip(colors, unique_labels):\n",
    "        idx = [i for i, l in enumerate(labels) if l == label]\n",
    "        plt.scatter(embeddings[0, idx], embeddings[1, idx], color=color, label=label)\n",
    "        # Add text annotations for each point\n",
    "        plt.text(embeddings[0, idx] + 0.001, embeddings[1, idx], label, fontsize=9)\n",
    "            \n",
    "    plt.title(title)\n",
    "    plt.xlabel(\"PCA Component 1\")\n",
    "    plt.ylabel(\"PCA Component 2\")\n",
    "    # plt.legend()\n",
    "    plt.show()"
   ]
  },
  {
   "cell_type": "markdown",
   "id": "ebe20b5f",
   "metadata": {},
   "source": [
    "## Step 1: Preparing data\n",
    "For each ticker, we will look at their daily log returns over the period 2018/01/01 to 2018/03/01. We will treat this list of returns as each ticker's \"feature\", which acts as a descriptor for the ticker. Compute the daily difference between log returns for each ticker over the provided time period."
   ]
  },
  {
   "cell_type": "code",
   "execution_count": 3,
   "id": "679dfc95",
   "metadata": {},
   "outputs": [
    {
     "data": {
      "application/vnd.microsoft.datawrangler.viewer.v0+json": {
       "columns": [
        {
         "name": "Ticker",
         "rawType": "object",
         "type": "string"
        },
        {
         "name": "LogReturn",
         "rawType": "object",
         "type": "unknown"
        }
       ],
       "ref": "3458d80b-ab65-44c8-991f-6a1c1b35a372",
       "rows": [
        [
         "AAPL",
         "[-1.11990289e-03  5.07214869e-03  1.10869234e-02  9.11758897e-03\n  1.00798378e-03  5.35900493e-03 -4.18417947e-03 -1.76247838e-03\n  8.03192501e-03 -8.32280352e-05 -1.75159944e-03  1.83482747e-03\n  6.66401214e-04 -9.16312839e-04  1.57953407e-02  4.92134254e-04\n  8.19649376e-05 -2.62750745e-03 -2.30483964e-03  5.91937226e-02\n -1.71021656e-03  4.27022992e-03  9.33030067e-03  9.47211485e-03\n  3.86991201e-03  7.19998928e-03 -2.26792140e-03  8.81670926e-03\n  1.28953787e-02  3.62256386e-03 -1.18147291e-03  2.73026063e-03\n  7.19446150e-03  2.99539569e-03 -4.23940762e-03  9.51736524e-04\n  1.97392347e-03  4.38027554e-04]"
        ],
        [
         "AEP",
         "[ 0.00143316  0.00539486 -0.0007914  -0.01323254 -0.00305404  0.01691998\n  0.00173949 -0.00094843  0.00913079 -0.00549993 -0.01204838  0.00334343\n -0.00318405  0.00111557 -0.00398994  0.00175755  0.00525462  0.00380378\n  0.01335765 -0.01525773  0.01087724  0.00391197 -0.00328509  0.0017223\n  0.00723608 -0.00597379  0.00832227 -0.00250522 -0.00818526  0.00031603\n  0.00645738  0.00641579  0.0100878   0.00845702  0.01066113  0.01712283\n -0.00672407  0.0040398 ]"
        ],
        [
         "AMZN",
         "[ 0.00464647  0.03026962  0.01971596  0.0011677  -0.00128081  0.00391248\n  0.01813201  0.00429241 -0.00912189 -0.00277021  0.00193005 -0.00087796\n  0.01174526  0.00555992  0.01697486  0.00313905 -0.00403599 -0.00647005\n -0.00834419  0.01071378  0.00908937 -0.03606131 -0.00316468  0.0059995\n  0.00883471  0.00201089  0.00739927  0.01090159 -0.00016737  0.00751597\n  0.00170739  0.00110113  0.01336472 -0.0009696  -0.0040051  -0.00818889\n  0.00401441 -0.00425111]"
        ],
        [
         "DUK",
         "[-0.00102976  0.0012867  -0.00334935 -0.01102977 -0.00182857  0.00781273\n  0.00569092 -0.00426508  0.00323251  0.0005161  -0.00491506  0.00271917\n -0.00388705  0.00194559 -0.00129657  0.00051886 -0.00233698  0.00233698\n  0.01824514 -0.0151382   0.00554308 -0.00180116 -0.00103075  0.00231746\n  0.01138199 -0.01138199  0.00449201  0.00752564 -0.00829447 -0.00526111\n  0.02723718 -0.00686741  0.00927266  0.00981406  0.01293709  0.0128936\n -0.001221    0.0083938 ]"
        ],
        [
         "GLD",
         "[ 0.00352415  0.01539595 -0.00739986  0.00819894  0.00425121  0.00308845\n  0.00360586  0.00263016  0.01425739 -0.00849516 -0.00087098  0.00243675\n  0.00641137 -0.00450104 -0.00827564 -0.00931545  0.00202863  0.00422056\n  0.0137681  -0.00303364  0.00554018  0.00250033  0.01342876 -0.00204115\n  0.00619568 -0.00764401  0.00263951 -0.00682593  0.00111237  0.00443722\n  0.00534969 -0.0033933   0.00059465  0.00135792  0.00869753  0.0063694\n -0.00485718  0.00092302]"
        ],
        [
         "GOOG",
         "[ 0.0009665   0.00900738  0.01516111  0.00062013 -0.00230872  0.00386943\n -0.00192027  0.00188309 -0.00405592  0.00181295 -0.00484375  0.00354038\n  0.01759542  0.00555027  0.01422098 -0.0042212  -0.0106799  -0.02582516\n -0.00691645 -0.00137503  0.00355646  0.00370009 -0.0001872   0.00700117\n  0.00174561  0.0014587   0.00506385  0.0068224   0.0014759  -0.00179325\n  0.00630504  0.00473284  0.0043261  -0.00108282  0.00068595 -0.00324105\n  0.00077209 -0.00734662]"
        ],
        [
         "SO",
         "[-0.00102017  0.00305717 -0.00264902 -0.00984204 -0.00309565  0.00741337\n  0.0053205  -0.00409005  0.01807315 -0.00140912 -0.01155413  0.00020362\n -0.00469909 -0.00533873 -0.0016484   0.00288304 -0.00308928  0.00370608\n  0.01570015 -0.0179632   0.00881785 -0.00306751 -0.00143452  0.00020483\n  0.00918466 -0.0073407   0.0038812   0.0034595  -0.01288203 -0.00495145\n  0.00937217 -0.00916309  0.00999212  0.0145987   0.0137844   0.01657274\n -0.00456496  0.01088147]"
        ],
        [
         "XOM",
         "[-0.01106349 -0.01501943 -0.00056465 -0.01663471 -0.01283487  0.01018852\n -0.00542852  0.00011616  0.01162861 -0.01243993 -0.01812828  0.01359801\n -0.01076934  0.00141124  0.00293373  0.00304167 -0.00105127 -0.0076308\n -0.01149631 -0.01138881  0.00613022  0.00107742 -0.00275697 -0.00650273\n -0.00660546  0.00440848  0.0082745   0.0058004  -0.00217155  0.00409722\n -0.01039554 -0.00658312  0.00158889 -0.01179252  0.01044844 -0.00859655\n  0.00565736 -0.00270166]"
        ]
       ],
       "shape": {
        "columns": 1,
        "rows": 8
       }
      },
      "text/plain": [
       "Ticker\n",
       "AAPL    [-0.0011199028902573013, 0.00507214869159839, ...\n",
       "AEP     [0.0014331568900181704, 0.005394855084582408, ...\n",
       "AMZN    [0.00464647301631583, 0.030269616426223996, 0....\n",
       "DUK     [-0.001029763606802401, 0.0012867048462190133,...\n",
       "GLD     [0.0035241475629946054, 0.015395946803090798, ...\n",
       "GOOG    [0.0009665000493054286, 0.009007379345297757, ...\n",
       "SO      [-0.0010201691831062953, 0.0030571665019612877...\n",
       "XOM     [-0.011063485130485693, -0.015019433359217812,...\n",
       "Name: LogReturn, dtype: object"
      ]
     },
     "execution_count": 3,
     "metadata": {},
     "output_type": "execute_result"
    }
   ],
   "source": [
    "# code\n",
    "tickers = ticker_data['Ticker'].unique().tolist()\n",
    "\n",
    "# Calculate the daily returns for each ticker by pt/pt-1 - 1\n",
    "ticker_data = ticker_data.sort_values(by=['Ticker', 'Date'])\n",
    "ticker_data[\"Return\"] = ticker_data.groupby('Ticker')['Close'].pct_change()\n",
    "ticker_data['Return'] = ticker_data['Return'].fillna(0)\n",
    "ticker_data['LogReturn'] = np.log1p(ticker_data['Return'])\n",
    "\n",
    "# For each ticker, get the vector of LogReturns\n",
    "log_return_vectors = ticker_data.groupby('Ticker')['LogReturn'].apply(np.array)\n",
    "\n",
    "# Remove the zero returns\n",
    "log_return_vectors = log_return_vectors.apply(lambda x: x[x != 0])\n",
    "log_return_vectors\n",
    "\n"
   ]
  },
  {
   "cell_type": "markdown",
   "id": "ca44e133",
   "metadata": {},
   "source": [
    "## Step 2: Apply PCA classically\n",
    "We will now apply PCA classically on our set of features. Per section 2.2 from the QAPCA paper (linked above), L1-PCA can be defined as the following problem:\n",
    "$$\n",
    "    \\mathbf{\\hat{R}}_{L_1} = \\underset{\\mathbf{R} \\in \\mathbb{R}^{D \\times K}, \\mathbf{R}^T\\mathbf{R=I}_K}{\\operatorname{\\argmax}} ||\\mathbf{R}^T\\mathbf{X}||_1\n",
    "$$\n",
    "where $||*||_1$ is the L1-norm of a vector (sum of absolute entries).  \n",
    "The paper walks through how to transform this into the binary optimization problem\n",
    "$$\n",
    "\\mathbf{\\hat{R}}_{L_1} = \\Phi\\left(\\mathbf{X}\\mathbf{B_{opt}} \\right)\n",
    "$$\n",
    "where\n",
    "$$\n",
    "\\mathbf{B_{opt}} = \\underset{\\mathbf{B} \\in \\{\\pm 1\\}^{N \\times K}}{\\operatorname{\\argmax}}\\sum_{k=1}^K {\\sigma}_k \\left[\\mathbf{B}^T \\mathbf{X}^T \\mathbf{XB} \\right]\n",
    "$$\n",
    "Per the paper, $K$ is the number of PCA components, ${\\sigma}_k[*]$ represents the $k^{th}$ singular-value of its argument (derived from SVD), $\\mathbf{B} \\in \\{ \\pm 1\\}^{N \\times K}$ is a binary matrix, and $\\Phi(*)$ returns the nearest orthonormal matrix to its argument (solved using SVD).  \n",
    "For $K = 1$, this expression becomes\n",
    "$$\n",
    "\\mathbf{B_{opt}} = \\underset{\\mathbf{B} \\in \\{\\pm 1\\}^N}{\\operatorname{\\argmax}} ||\\mathbf{X} \\hat{\\mathbf{b}}||_2 = \\underset{\\mathbf{B} \\in \\{\\pm 1\\}^N}{\\operatorname{\\argmax}} \\: \\hat{\\mathbf{b}}^T \\mathbf{X}^T\\mathbf{X} \\hat{\\mathbf{b}} \n",
    "$$\n",
    "This binary quadratic form is formally an [NP-hard problem](https://arxiv.org/abs/2301.06978)!!! These are magic words for quantum nerds. We can then rewrite this formulation in Ising form as:\n",
    "$$\n",
    "\\mathbf{b_{opt}} = \\underset{\\hat{\\mathbf{b}}\\in\\{\\pm 1\\}^N}{\\operatorname{\\argmin}} \\hspace{2mm} \\hat{\\mathbf{b}}^T\\left( - \\mathbf{X}^T\\mathbf{X} \\right)\\hat{\\mathbf{b}} = \\underset{\\hat{\\mathbf{b}}\\in\\{\\pm 1\\}^N}{\\operatorname{\\argmin}} \\hspace{2mm} \\hat{\\mathbf{b}}^T(-\\mathbf{J})\\hat{\\mathbf{b}}\n",
    "$$\n",
    "where $J$ represents the covariance matrix.  \n",
    "\n",
    "We can iteratively anneal and update the covariance matrix to solve for one principal component at a time.  \n",
    "We offer functions and descriptions, as well as the steps for calling. We recommend implementing helper functions yourself instead of using packages. At one step you should use some optimizer package, e.g. dual_annealing from scipy.optimize."
   ]
  },
  {
   "cell_type": "code",
   "execution_count": 122,
   "id": "b0d13d6a",
   "metadata": {},
   "outputs": [],
   "source": [
    "from scipy.optimize import dual_annealing\n",
    "\n",
    "def solve_covariance_matrix(sample_data):\n",
    "    \"\"\"Calculate covariance matrix for given sample data\"\"\"\n",
    "    \n",
    "    # For each ticker, get the vector of LogReturns and stack them into a 2D array (features x samples)\n",
    "    stacked_data = np.vstack(sample_data.values)\n",
    "    print(\"Stacked data shape:\", stacked_data.shape)  # Debugging line to check shape\n",
    "    return stacked_data @ stacked_data.T, stacked_data.T\n",
    "\n",
    "\n",
    "def l1_objective(b, J):\n",
    "    \"\"\"\n",
    "    Compute the L1 PCA objective function.\n",
    "\n",
    "    Parameters:\n",
    "    -----------\n",
    "    b : numpy.ndarray\n",
    "        The current component vector (will be reshaped to column vector)\n",
    "    J : numpy.ndarray\n",
    "        The covariance matrix or modified covariance matrix for the optimization\n",
    "        \n",
    "    Returns:\n",
    "    --------\n",
    "    float\n",
    "        The l1 objective function value\n",
    "    \"\"\"\n",
    "    \n",
    "    # bT(-J)b\n",
    "    return b.T @ (-J) @ b\n",
    "\n",
    "def Phi(T):\n",
    "    # T: (D,K). If K=1 this reduces to unit-normalizing the vector.\n",
    "    U, _, Vt = np.linalg.svd(T, full_matrices=False)\n",
    "    return U @ Vt\n",
    "\n",
    "def solve_l1_classical_component(J):\n",
    "    \"\"\"\n",
    "    Solve for a single L1 PCA component using simulated annealing.\n",
    "    \n",
    "    This function finds the k-th principal component by optimizing the L1 objective\n",
    "    function. For k > 0, it ensures orthogonality with previous components by\n",
    "    modifying the covariance matrix to ignore the subspace spanned by previous\n",
    "    components.\n",
    "    \n",
    "    Parameters:\n",
    "    -----------\n",
    "    J : numpy.ndarray\n",
    "        The covariance matrix (samples x samples)\n",
    "        \n",
    "    Returns:\n",
    "    --------\n",
    "    tuple\n",
    "        A tuple containing:\n",
    "        - numpy.ndarray: The normalized component vector\n",
    "        - numpy.ndarray: Covariance matrix, now orthogonal to the kth principal component\n",
    "    \"\"\"\n",
    "    n = J.shape[0]\n",
    "    \n",
    "    bounds = [(-1, 1) for _ in range(n)]    \n",
    "    x0 = np.random.uniform(-1, 1, n)\n",
    "    result = dual_annealing(l1_objective, bounds, args=(J,), x0=x0)\n",
    "    \n",
    "    b_opt = result.x\n",
    "    print(\"Optimized b (before normalization):\", b_opt)\n",
    "    \n",
    "    r_norm_sqrd = b_opt.T @ J @ b_opt\n",
    "    # r_norm_sqrd = 1\n",
    "    \n",
    "    bbT = np.outer(b_opt, b_opt)\n",
    "\n",
    "    print(f\"SHapes: J: {J.shape}, bbT: {bbT.shape}, b_opt: {b_opt.shape}\")\n",
    "    J_new = J \n",
    "    J_new = J_new - ((2/r_norm_sqrd) * J @ bbT @ J) \n",
    "    J_new = J_new + ((J @ bbT @ J @ bbT @ J) / (r_norm_sqrd**2))\n",
    "\n",
    "    return b_opt, J_new\n",
    "\n",
    "def do_l1_pca(sample_data, K, get_component_func=solve_l1_classical_component):\n",
    "    \"\"\"Gets K principal components\"\"\"\n",
    "    J, X = solve_covariance_matrix(sample_data)\n",
    "    components = []\n",
    "    r = None\n",
    "\n",
    "    for k in range(K):\n",
    "        r, J = get_component_func(J)\n",
    "        components.append(r)\n",
    "    \n",
    "    Bopt = np.vstack(components).T\n",
    "    \n",
    "    print(\"Bopt shape:\", Bopt.shape)\n",
    "    print(\"X shape:\", X.shape)\n",
    "    \n",
    "    X_Bopt = X @ Bopt\n",
    "    R_L1 = Phi(X_Bopt)\n",
    "    \n",
    "    print(\"R_L1 shape:\", R_L1.shape)\n",
    "    emb = R_L1.T @ X\n",
    "    return emb"
   ]
  },
  {
   "cell_type": "code",
   "execution_count": 126,
   "id": "a06029b8",
   "metadata": {},
   "outputs": [
    {
     "name": "stdout",
     "output_type": "stream",
     "text": [
      "Stacked data shape: (8, 38)\n",
      "Optimized b (before normalization): [-1.  1. -1.  1.  1. -1.  1.  1.]\n",
      "SHapes: J: (8, 8), bbT: (8, 8), b_opt: (8,)\n",
      "Bopt shape: (8, 1)\n",
      "X shape: (38, 8)\n",
      "R_L1 shape: (38, 1)\n",
      "PCA Embeddings shape: (1, 8)\n"
     ]
    }
   ],
   "source": [
    "ticker_data = log_return_vectors\n",
    "pca_embeddings = do_l1_pca(ticker_data, 1, solve_l1_classical_component)\n",
    "print(\"PCA Embeddings shape:\", pca_embeddings.shape)\n"
   ]
  },
  {
   "cell_type": "code",
   "execution_count": 147,
   "id": "e2de0606",
   "metadata": {},
   "outputs": [
    {
     "name": "stdout",
     "output_type": "stream",
     "text": [
      "Partitioned Tickers based on L1 PCA:\n",
      "Group 1: ['AEP', 'DUK', 'GLD', 'SO', 'XOM']\n",
      "Group 2: ['AAPL', 'AMZN', 'GOOG']\n"
     ]
    }
   ],
   "source": [
    "# Get the tickers list\n",
    "tickers = log_return_vectors.index.tolist()\n",
    "\n",
    "tickers_partition = (list(), list())\n",
    "for idx, tick in enumerate(tickers):\n",
    "    if pca_embeddings[0,idx] >= 0:\n",
    "        tickers_partition[0].append(tick)\n",
    "    else:\n",
    "        tickers_partition[1].append(tick)\n",
    "\n",
    "# Display the partitioned tickers\n",
    "print(\"Partitioned Tickers based on L1 PCA:\")\n",
    "print(\"Group 1:\", tickers_partition[0])\n",
    "print(\"Group 2:\", tickers_partition[1])\n"
   ]
  },
  {
   "cell_type": "code",
   "execution_count": 175,
   "id": "c8204b96",
   "metadata": {},
   "outputs": [
    {
     "name": "stdout",
     "output_type": "stream",
     "text": [
      "Stacked data shape: (8, 38)\n",
      "Optimized b (before normalization): [ 1. -1.  1. -1. -1.  1. -1. -1.]\n",
      "SHapes: J: (8, 8), bbT: (8, 8), b_opt: (8,)\n",
      "Optimized b (before normalization): [-1. -1. -1. -1. -1. -1. -1.  1.]\n",
      "SHapes: J: (8, 8), bbT: (8, 8), b_opt: (8,)\n",
      "Bopt shape: (8, 2)\n",
      "X shape: (38, 8)\n",
      "R_L1 shape: (38, 2)\n",
      "PCA Embeddings shape: (2, 8)\n"
     ]
    },
    {
     "data": {
      "image/png": "[encoded data removed]",
      "text/plain": [
       "<Figure size 1000x800 with 1 Axes>"
      ]
     },
     "metadata": {},
     "output_type": "display_data"
    }
   ],
   "source": [
    "# 2d visualizations\n",
    "pca_embeddings = do_l1_pca(ticker_data, 2, solve_l1_classical_component)\n",
    "# Convert (2, N) for scatterplot\n",
    "# pca_embeddings = pca_embeddings.reshape(2, -1)\n",
    "print(\"PCA Embeddings shape:\", pca_embeddings.shape)\n",
    "create_scatterplot(pca_embeddings, tickers, \"L1 PCA Embeddings\")"
   ]
  },
  {
   "cell_type": "markdown",
   "id": "4b462d75",
   "metadata": {},
   "source": [
    "## Step 3: Analyze results\n",
    "After doing PCA on our list of vectors, graph the encodings for each ticker and answer some of the following questions regarding the graph and implementation.\n",
    "1. Do sectors naturally emerge from the encodings for each ticker? \n",
    "2. Why did we need to use PCA to visualize how these sectors emerged?\n",
    "3. What does it mean for an algorithm to be *robust*? Why is it important for an algorithm to be robust?"
   ]
  },
  {
   "cell_type": "code",
   "execution_count": 127,
   "id": "5ddf5629",
   "metadata": {},
   "outputs": [
    {
     "name": "stdout",
     "output_type": "stream",
     "text": [
      "Partitioned Tickers based on L1 PCA:\n",
      "Group 1: ['AEP', 'DUK', 'GLD', 'SO', 'XOM']\n",
      "Group 2: ['AAPL', 'AMZN', 'GOOG']\n"
     ]
    }
   ],
   "source": [
    "\n",
    "\n"
   ]
  },
  {
   "cell_type": "markdown",
   "id": "07d62556",
   "metadata": {},
   "source": [
    "#### ***Replace this block with your analysis***\n",
    "..."
   ]
  },
  {
   "cell_type": "markdown",
   "id": "a50349aa",
   "metadata": {},
   "source": [
    "## Step 4: Construct Ising Model for QAPCA-R\n",
    "**Instructions:**  \n",
    "After completing previous steps, we can now consider how we would run this problem in a format that a quantum computer could read. The model given in Eq. 8 of the paper, which is already included in the description for Step 2 of this prompt, is conveniently already very close to an Ising Model! Read more about Ising Models for an intuitive understanding. The coupling strengths of the Ising model are simply the elements of the covariance matrix $J$.  \n",
    "We recommend using the package neal's SimulatedAnnealingSampler for solving the Ising Model."
   ]
  },
  {
   "cell_type": "code",
   "execution_count": 73,
   "id": "628fcc7a",
   "metadata": {},
   "outputs": [],
   "source": [
    "import neal\n",
    "\n",
    "def convert_J_to_ising_model(X):\n",
    "    \"\"\"\n",
    "    Converts covariance matrix J into dict of Ising Model couplings.\n",
    "    \"\"\"\n",
    "    ising_model = {}\n",
    "    for i in range(len(X)):\n",
    "        for j in range(len(X)):\n",
    "            if i < j:\n",
    "                ising_model[(i, j)] =  -X[i, j]\n",
    "    return ising_model\n",
    "\n",
    "def solve_l1_qapca_r_component(J):\n",
    "    \"\"\"\n",
    "    Solve for a single L1 QAPCA component using simulated annealing.\n",
    "    \n",
    "    This function finds the k-th principal component by optimizing the L1 objective\n",
    "    function. For k > 0, it ensures orthogonality with previous components by\n",
    "    modifying the covariance matrix to ignore the subspace spanned by previous\n",
    "    components.\n",
    "    \n",
    "    Parameters:\n",
    "    -----------\n",
    "    J : numpy.ndarray\n",
    "        The covariance matrix (samples x samples)\n",
    "        \n",
    "    Returns:\n",
    "    --------\n",
    "    tuple\n",
    "        A tuple containing:\n",
    "        - numpy.ndarray: The normalized component vector\n",
    "        - numpy.ndarray: Covariance matrix, now orthogonal to the kth principal component\n",
    "    \"\"\"\n",
    "    sampler = neal.SimulatedAnnealingSampler()\n",
    "    \n",
    "    h = {i: 0 for i in range(J.shape[0])}\n",
    "    J_ising = convert_J_to_ising_model(J)\n",
    "    \n",
    "    sampleset = sampler.sample_ising(h, J_ising, num_reads=100)\n",
    "    best_sample = sampleset.first.sample\n",
    "    \n",
    "    b_opt = np.array([best_sample[i] for i in range(J.shape[0])])\n",
    "    r_norm_sqrd = b_opt.T @ J @ b_opt\n",
    "    bbT = np.outer(b_opt, b_opt)\n",
    "    \n",
    "    print(f\"SHapes: J: {J.shape}, bbT: {bbT.shape}, b_opt: {b_opt.shape}\")\n",
    "    J_new = J\n",
    "    J_new = J_new - ((2/r_norm_sqrd) * J @ bbT @ J) \n",
    "    J_new = J_new + ((J @ bbT @ J @ bbT @ J) / (r_norm_sqrd**2))   \n",
    "    \n",
    "    return b_opt, J_new\n"
   ]
  },
  {
   "cell_type": "code",
   "execution_count": 143,
   "id": "2dea7fcd",
   "metadata": {},
   "outputs": [
    {
     "name": "stdout",
     "output_type": "stream",
     "text": [
      "Stacked data shape: (8, 38)\n",
      "SHapes: J: (8, 8), bbT: (8, 8), b_opt: (8,)\n",
      "Bopt shape: (8, 1)\n",
      "X shape: (38, 8)\n",
      "R_L1 shape: (38, 1)\n"
     ]
    }
   ],
   "source": [
    "qapca_r_embeddings = do_l1_pca(ticker_data, 1, solve_l1_qapca_r_component)"
   ]
  },
  {
   "cell_type": "code",
   "execution_count": 176,
   "id": "af50e5df",
   "metadata": {},
   "outputs": [
    {
     "name": "stdout",
     "output_type": "stream",
     "text": [
      "Stacked data shape: (8, 38)\n",
      "SHapes: J: (8, 8), bbT: (8, 8), b_opt: (8,)\n",
      "SHapes: J: (8, 8), bbT: (8, 8), b_opt: (8,)\n",
      "Bopt shape: (8, 2)\n",
      "X shape: (38, 8)\n",
      "R_L1 shape: (38, 2)\n"
     ]
    },
    {
     "data": {
      "image/png": "[encoded data removed]",
      "text/plain": [
       "<Figure size 1000x800 with 1 Axes>"
      ]
     },
     "metadata": {},
     "output_type": "display_data"
    }
   ],
   "source": [
    "qapca_r_embeddings_2 = do_l1_pca(ticker_data, 2, solve_l1_qapca_r_component)\n",
    "\n",
    "create_scatterplot(qapca_r_embeddings_2, tickers, \"L1 QAPCA-R Embeddings\")"
   ]
  },
  {
   "cell_type": "markdown",
   "id": "386e5e70",
   "metadata": {},
   "source": [
    "## Step 5: Analyze results\n",
    "Analyze your results! Include visuals and brief explanations for what the visuals represent. Also answer some of these questions:  \n",
    "1. How does Quantum Annealing work?\n",
    "2. What is an Ising Model?\n",
    "3. What are key differences between quantum and classical PCA with regards to results and implementation? Are the results guaranteed to be the same?"
   ]
  },
  {
   "cell_type": "code",
   "execution_count": 131,
   "id": "18ec7beb",
   "metadata": {},
   "outputs": [
    {
     "name": "stdout",
     "output_type": "stream",
     "text": [
      "Partitioned Tickers based on L1 PCA:\n",
      "Group 1: ['AAPL', 'AMZN', 'GOOG']\n",
      "Group 2: ['AEP', 'DUK', 'GLD', 'SO', 'XOM']\n"
     ]
    }
   ],
   "source": [
    "# code\n",
    "tickers = log_return_vectors.index.tolist()\n",
    "\n",
    "tickers_partition = (list(), list())\n",
    "for idx, tick in enumerate(tickers):\n",
    "    if qapca_r_embeddings[0, idx] >= 0:\n",
    "        tickers_partition[0].append(tick)\n",
    "    else:\n",
    "        tickers_partition[1].append(tick)\n",
    "\n",
    "# Display the partitioned tickers\n",
    "print(\"Partitioned Tickers based on L1 PCA:\")\n",
    "print(\"Group 1:\", tickers_partition[0])\n",
    "print(\"Group 2:\", tickers_partition[1])"
   ]
  },
  {
   "cell_type": "markdown",
   "id": "13fae86b",
   "metadata": {},
   "source": [
    "#### ***Replace with your analysis***\n",
    "..."
   ]
  },
  {
   "cell_type": "markdown",
   "id": "ed71b672",
   "metadata": {},
   "source": [
    "## **BONUS:** \n",
    "Dig deeper into PCA, QA, and/or QAPCA! With any leftover time, explore alternative implementations and applications. We have listed out some ideas, but explore whatever inspires your team!  \n",
    "### Ideas:  \n",
    "1. **Test implementation on bigger dataset!** *Difficulty: 1/5*\n",
    "2. **Add outliers and test robustness!** *Difficulty: 2/5*\n",
    "3. **Implement your own annealing algorithm!** *Difficulty: 3/5*\n",
    "4. **Implement multi-component QAPCA** (section 3.2 of article)**!** *Difficulty: 5/5*\n",
    "5. **Run this on a quantum computer!** *Difficulty: 5/5*"
   ]
  },
  {
   "cell_type": "markdown",
   "id": "5ef9b7f6",
   "metadata": {},
   "source": [
    "# 4 Implement multi component QAPCA"
   ]
  },
  {
   "cell_type": "code",
   "execution_count": 178,
   "id": "9488c23e",
   "metadata": {},
   "outputs": [],
   "source": [
    "# Code\n",
    "import numpy as np\n",
    "import neal\n",
    "\n",
    "def solve_l1_multi_component(J, K=2, eps=0.2, num_reads=100):\n",
    "    N = J.shape[0]\n",
    "\n",
    "    # ---- 1. Construct Ising coupling matrix (Eq. 21) ----\n",
    "    I_K = np.eye(K)\n",
    "    onesK = np.ones((K, K))\n",
    "\n",
    "    H = np.kron(I_K, (-K) * J) + np.kron(onesK - I_K, - eps * J)\n",
    "\n",
    "    J_ising = {}\n",
    "    for i in range(K * N):\n",
    "        for j in range(i + 1, K * N):\n",
    "            val = H[i, j]\n",
    "            if abs(val) > 1e-12:\n",
    "                J_ising[(i, j)] = val\n",
    "\n",
    "    h = {i: 0.0 for i in range(K * N)}  # no biases\n",
    "\n",
    "\n",
    "    sampler = neal.SimulatedAnnealingSampler()\n",
    "    sampleset = sampler.sample_ising(h, J_ising, num_reads=num_reads)\n",
    "    best_sample = sampleset.first.sample\n",
    "\n",
    "    b_opt = np.array([best_sample[i] for i in range(K * N)])\n",
    "    B_opt = b_opt.reshape(K, N)\n",
    "\n",
    "    return B_opt, J\n"
   ]
  },
  {
   "cell_type": "code",
   "execution_count": 139,
   "id": "89a8b54b",
   "metadata": {},
   "outputs": [
    {
     "name": "stdout",
     "output_type": "stream",
     "text": [
      "Stacked data shape: (8, 38)\n",
      "Bopt shape: (8, 1)\n",
      "X shape: (38, 8)\n",
      "R_L1 shape: (38, 1)\n"
     ]
    }
   ],
   "source": [
    "import functools\n",
    "\n",
    "K = 1\n",
    "qapca_multi_embeddings = do_l1_pca(ticker_data, K, functools.partial(solve_l1_multi_component, K=K, eps=0.2, num_reads=100))"
   ]
  },
  {
   "cell_type": "code",
   "execution_count": 177,
   "id": "0e2c8f04",
   "metadata": {},
   "outputs": [
    {
     "name": "stdout",
     "output_type": "stream",
     "text": [
      "Stacked data shape: (8, 38)\n",
      "Bopt shape: (8, 4)\n",
      "X shape: (38, 8)\n",
      "R_L1 shape: (38, 4)\n"
     ]
    },
    {
     "data": {
      "image/png": "[encoded data removed]",
      "text/plain": [
       "<Figure size 1000x800 with 1 Axes>"
      ]
     },
     "metadata": {},
     "output_type": "display_data"
    }
   ],
   "source": [
    "qapca_multi_embeddings_2 = do_l1_pca(ticker_data, 2, functools.partial(solve_l1_multi_component, K=2, eps=0.2, num_reads=100))\n",
    "\n",
    "create_scatterplot(qapca_multi_embeddings_2, tickers, \"L1 QAPCA-Multi Embeddings\")"
   ]
  },
  {
   "cell_type": "code",
   "execution_count": 140,
   "id": "1d7a4441",
   "metadata": {},
   "outputs": [
    {
     "name": "stdout",
     "output_type": "stream",
     "text": [
      "Partitioned Tickers based on L1 PCA:\n",
      "Group 1: ['AAPL', 'AMZN', 'GOOG']\n",
      "Group 2: ['AEP', 'DUK', 'GLD', 'SO', 'XOM']\n"
     ]
    }
   ],
   "source": [
    "# code\n",
    "tickers = log_return_vectors.index.tolist()\n",
    "\n",
    "tickers_partition = (list(), list())\n",
    "for idx, tick in enumerate(tickers):\n",
    "    if qapca_multi_embeddings[0, idx] >= 0:\n",
    "        tickers_partition[0].append(tick)\n",
    "    else:\n",
    "        tickers_partition[1].append(tick)\n",
    "\n",
    "# Display the partitioned tickers\n",
    "print(\"Partitioned Tickers based on L1 PCA:\")\n",
    "print(\"Group 1:\", tickers_partition[0])\n",
    "print(\"Group 2:\", tickers_partition[1])"
   ]
  },
  {
   "cell_type": "markdown",
   "id": "f779d09f",
   "metadata": {},
   "source": [
    "## **Final Step:** Present your findings and pitch your implementation. Why would a financial firm benefit from using your implementation?  \n",
    "Make sure to submit your presentation on time per QuantathonV2 rules! Understand that we don't care if you use AI, but we do very much care that everyone on your team learns about PCA, QA, and QAPCA!"
   ]
  },
  {
   "cell_type": "markdown",
   "id": "f4e9738b",
   "metadata": {},
   "source": [
    "# End of challenge. Good luck!"
   ]
  },
  {
   "cell_type": "markdown",
   "id": "80e4fc3f",
   "metadata": {},
   "source": [
    "<img src=\"fig2.png\" width=400px />"
   ]
  },
  {
   "cell_type": "code",
   "execution_count": null,
   "id": "659f7527",
   "metadata": {},
   "outputs": [],
   "source": [
    "import numpy as np\n",
    "import neal\n",
    "\n",
    "def plot_matrix_heatmap(matrix, title):\n",
    "    plt.figure(figsize=(8, 6))\n",
    "    sns.heatmap(matrix, annot=True, fmt=\".2f\", cmap=\"coolwarm\", cbar=True)\n",
    "    plt.title(title)\n",
    "    plt.xlabel(\"Index\")\n",
    "    plt.ylabel(\"Index\")\n",
    "    plt.show()\n",
    "    \n",
    "def compute_kappa_hat(N: int, C_limit: int) -> int:\n",
    "    \"\"\"\n",
    "    Return the largest κ in {0,...,N-1} s.t. 0.5 * (2N - κ) * (κ + 1) ≤ C_limit.\n",
    "    \"\"\"\n",
    "    def bands_count(k):  # counts diagonal + first k-1 superdiagonals\n",
    "        return 0.5 * (2*N - k) * (k + 1)\n",
    "\n",
    "    k_hat = 0\n",
    "    for k in range(N):          # monotone increasing in k for k ≤ N-1\n",
    "        if bands_count(k) <= C_limit:\n",
    "            k_hat = k\n",
    "        else:\n",
    "            break\n",
    "    return k_hat\n",
    "\n",
    "def banded_J_hat(J: np.ndarray, C_limit: int) -> tuple[np.ndarray, int]:\n",
    "    \"\"\"\n",
    "    Build \\hat{J} per Eq. (23) using κ̂ from Eq. (24).\n",
    "    Keeps diagonal at 1/2 J_ii and superdiagonals with 0 < j-i < κ̂.\n",
    "    \"\"\"\n",
    "    N = J.shape[0]\n",
    "    assert J.shape[0] == J.shape[1], \"J must be square\"\n",
    "    J = 0.5 * (J + J.T)  # ensure symmetry (safe)\n",
    "\n",
    "    kappa_hat = compute_kappa_hat(N, C_limit)\n",
    "\n",
    "    J_hat = np.zeros_like(J)\n",
    "    # diagonal: 1/2 * J_ii\n",
    "    np.fill_diagonal(J_hat, 0.5 * np.diag(J))\n",
    "\n",
    "    # superdiagonals: 0 < j - i < κ̂  (i.e., j = i+1,...,i+κ̂-1)\n",
    "    if kappa_hat > 0:\n",
    "        for i in range(N):\n",
    "            j_max = min(N, i + kappa_hat)   # exclusive upper bound\n",
    "            for j in range(i+1, j_max):\n",
    "                J_hat[i, j] = J[i, j]       # keep only upper-triangular entries\n",
    "                # If your solver expects symmetric J (i<j only is fine for Ising dictionaries),\n",
    "                # you can optionally mirror:\n",
    "                # J_hat[j, i] = J[j, i]\n",
    "\n",
    "    return J_hat, kappa_hat\n",
    "\n",
    "def solve_l1_multi_component(J, K=2, eps=0.2, num_reads=100):\n",
    "    N = J.shape[0]\n",
    "\n",
    "    # ---- 1. Construct Ising coupling matrix (Eq. 21) ----\n",
    "    I_K = np.eye(K)\n",
    "    onesK = np.ones((K, K))\n",
    "    \n",
    "    # Plot the original covariance matrix\n",
    "    plot_matrix_heatmap(J, \"Original Covariance Matrix J\")\n",
    "\n",
    "    J_hat, kappa = banded_J_hat(J, C_limit=11325)\n",
    "\n",
    "    plot_matrix_heatmap(J_hat, \"Modified Covariance Matrix J\")\n",
    "\n",
    "    H = np.kron(I_K, (-K) * J) + np.kron(onesK - I_K, - eps * J)\n",
    "\n",
    "    J_ising = {}\n",
    "    for i in range(K * N):\n",
    "        for j in range(i + 1, K * N):\n",
    "            val = H[i, j]\n",
    "            if abs(val) > 1e-12:\n",
    "                J_ising[(i, j)] = val\n",
    "    \n",
    "    \n",
    "    h = {i: 0.0 for i in range(K * N)}  # no biases\n",
    "\n",
    "\n",
    "    sampler = neal.SimulatedAnnealingSampler()\n",
    "    sampleset = sampler.sample_ising(h, J_ising, num_reads=num_reads)\n",
    "    best_sample = sampleset.first.sample\n",
    "\n",
    "    b_opt = np.array([best_sample[i] for i in range(K * N)])\n",
    "    B_opt = b_opt.reshape(K, N)\n",
    "\n",
    "    return B_opt, J\n"
   ]
  }
 ],
 "metadata": {
  "kernelspec": {
   "display_name": "shawcircleprompt-quantathonv2",
   "language": "python",
   "name": "python3"
  },
  "language_info": {
   "codemirror_mode": {
    "name": "ipython",
    "version": 3
   },
   "file_extension": ".py",
   "mimetype": "text/x-python",
   "name": "python",
   "nbconvert_exporter": "python",
   "pygments_lexer": "ipython3",
   "version": "3.13.0"
  }
 },
 "nbformat": 4,
 "nbformat_minor": 5
}
