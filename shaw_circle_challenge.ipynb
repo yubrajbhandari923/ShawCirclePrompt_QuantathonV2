{
 "cells": [
  {
   "cell_type": "markdown",
   "id": "e74680ab",
   "metadata": {},
   "source": [
    "# Quantum PCA for Financial Dataset\n",
    "### **Learning Objectives**\n",
    "1. Why use Principal Component Analysis (PCA)? How to use PCA?\n",
    "2. Apply PCA to a dataset. Form statistical conclusions per results.\n",
    "3. Understand and mitigate the impact of outliers and noisy data.\n",
    "3. Why use Quantum Annealing (QA)? How to use QA?\n",
    "4. Experiment with implementing a QA algorithm.\n",
    "\n",
    "#### **Principal Component Analysis**\n",
    "*Principal Component Analysis* (PCA) is a common data science procedure used for extracting key features (aka principal components) from a dataset. Knowing the principal components is helpful for dimensionality reduction, denoising, and visualization.  \n",
    "For an intuitive understanding of PCA, here is a [great rundown from IBM](https://www.ibm.com/think/topics/principal-component-analysis) and youtube has a plethora of instructive videos. Develop an understanding of the fundamentals before continuing.  \n",
    "Understand both the recursive formulation of PCA and the implementation that solves for several principal components simultaneously.  \n",
    "\n",
    "### **Quantum Annealing**\n",
    "*Quantum Annealing* (QA) is an optimization algorithm for finding the global minimum of a solution set. It works by creating quantum fluctations in input data to explore the dataset.  \n",
    "For an intuitive understanding of QA, there are also some youtube videos that have great visualizers. Here is a [great video](https://youtu.be/zvfkXjzzYOo?si=t1X2Nl-277pAQDV4) from D-Wave.\n",
    "\n",
    "### **QaPCA**\n",
    "*Quantum Annealing for Robust Principal Component Analysis* ([pdf](https://arxiv.org/pdf/2501.10431)), published in December 2024, introduced an implementation of PCA using Quantum Annealing. The goal of the article was to develop a *robust* implementation, i.e. an implementation that mitigated the impact of noise.  \n",
    "\n",
    "### **Problem Statement - Detecting and Analyzing Financial Principal Components with QAPCA**\n",
    "This challenge will have competitors build L1-PCA classically, followed by QAPCA-R, in order to visualize the natural groupings of different tickers into sectors from price movements. Competitors will be tested on how robustly their implementation manages noise from both the quantum system and the data itself.\n",
    "##### Input: Time series of stock prices\n",
    "Steps:\n",
    "1. Pre-process data\n",
    "2. Apply PCA classically. \n",
    "3. Analyze results.\n",
    "4. Construct Ising Model for Recursive QaPCA.\n",
    "5. Analyze results. How do they compare with classical PCA?\n",
    "6. Bonus."
   ]
  },
  {
   "cell_type": "markdown",
   "id": "2630864c",
   "metadata": {},
   "source": [
    "## Step 0: Downloading data\n",
    "We will be utilizing stock price data from 2018/01/01 to 2018/03/01 for various different tickers from different sectors. The list of tickers and their corresponding sector are listed as follows:\n",
    "| Ticker | Company Name           | Sector         |\n",
    "|--------|------------------------|----------------|\n",
    "| AAPL   | Apple Inc.             | Technology     |\n",
    "| AMZN   | Amazon.com Inc.        | Technology     |\n",
    "| GOOG   | Alphabet Inc Class C   | Technology     |\n",
    "| MSFT   | Microsoft Corporation  | Technology     |\n",
    "| XOM    | Exxon Mobil Corp       | Energy         |\n",
    "| GLD    | SPDR Gold Trust        | Finance        |\n",
    "| AEP    | Amer. Elec. Power Comp | Utility        |\n",
    "| DUK    | Duke Energy Corp       | Utility        |\n",
    "| SO     | Southern Co            | Utility        |"
   ]
  },
  {
   "cell_type": "code",
   "execution_count": 1,
   "id": "d0ad8d27",
   "metadata": {},
   "outputs": [],
   "source": [
    "# Handle imports\n",
    "import pandas as pd\n",
    "import yfinance as yf\n",
    "import numpy as np\n",
    "import os"
   ]
  },
  {
   "cell_type": "code",
   "execution_count": 2,
   "id": "126d642a",
   "metadata": {},
   "outputs": [
    {
     "name": "stderr",
     "output_type": "stream",
     "text": [
      "[*********************100%***********************]  8 of 8 completed\n",
      "/tmp/ipykernel_2037/4099572924.py:15: FutureWarning: The previous implementation of stack is deprecated and will be removed in a future version of pandas. See the What's New notes for pandas 2.1.0 for details. Specify future_stack=True to adopt the new implementation and silence this warning.\n",
      "  ticker_data = ticker_data.stack(level=0).rename_axis(['Date', 'Ticker']).reset_index()\n"
     ]
    }
   ],
   "source": [
    "tickers_path = 'data/prices.csv'\n",
    "if os.path.exists(tickers_path):\n",
    "    ticker_data = pd.read_csv(tickers_path)\n",
    "else:\n",
    "    tickers = ['GOOG', 'XOM', 'AAPL', 'AMZN', 'GLD', 'DUK', 'SO', 'AEP']\n",
    "    date_range = ['2017-01-01', '2017-03-01']\n",
    "\n",
    "    ticker_data = yf.download(\n",
    "        tickers,\n",
    "        start=date_range[0],\n",
    "        end=date_range[1],\n",
    "        group_by=\"ticker\",\n",
    "        auto_adjust=True\n",
    "    )\n",
    "    ticker_data = ticker_data.stack(level=0).rename_axis(['Date', 'Ticker']).reset_index()\n",
    "\n",
    "    ticker_data.to_csv(tickers_path, index=False)"
   ]
  },
  {
   "cell_type": "markdown",
   "id": "ebe20b5f",
   "metadata": {},
   "source": [
    "## Step 1: Preparing data\n",
    "For each ticker, we will look at their daily log returns over the period 2018/01/01 to 2018/03/01. We will treat this list of returns as each ticker's \"feature\", which acts as a descriptor for the ticker. Compute the daily difference between log returns for each ticker over the provided time period."
   ]
  },
  {
   "cell_type": "code",
   "execution_count": null,
   "id": "679dfc95",
   "metadata": {},
   "outputs": [],
   "source": [
    "# code"
   ]
  },
  {
   "cell_type": "markdown",
   "id": "ca44e133",
   "metadata": {},
   "source": [
    "## Step 2: Apply PCA classically\n",
    "We will now apply PCA classically on our set of features. Per section 2.2 from the QAPCA paper (linked above), L1-PCA can be defined as the following problem:\n",
    "$$\n",
    "    \\mathbf{\\hat{R}}_{L_1} = \\underset{\\mathbf{R} \\in \\mathbb{R}^{D \\times K}, \\mathbf{R}^T\\mathbf{R=I}_K}{\\operatorname{\\argmax}} ||\\mathbf{R}^T\\mathbf{X}||_1\n",
    "$$\n",
    "where $||*||_1$ is the L1-norm of a vector (sum of absolute entries).  \n",
    "The paper walks through how to transform this into the binary optimization problem\n",
    "$$\n",
    "\\mathbf{\\hat{R}}_{L_1} = \\Phi\\left(\\mathbf{X}\\mathbf{B_{opt}} \\right)\n",
    "$$\n",
    "where\n",
    "$$\n",
    "\\mathbf{B_{opt}} = \\underset{\\mathbf{B} \\in \\{\\pm 1\\}^{N \\times K}}{\\operatorname{\\argmax}}\\sum_{k=1}^K {\\sigma}_k \\left[\\mathbf{B}^T \\mathbf{X}^T \\mathbf{XB} \\right]\n",
    "$$\n",
    "Per the paper, $K$ is the number of PCA components, ${\\sigma}_k[*]$ represents the $k^{th}$ singular-value of its argument (derived from SVD), $\\mathbf{B} \\in \\{ \\pm 1\\}^{N \\times K}$ is a binary matrix, and $\\Phi(*)$ returns the nearest orthonormal matrix to its argument (solved using SVD).  \n",
    "For $K = 1$, this expression becomes\n",
    "$$\n",
    "\\mathbf{B_{opt}} = \\underset{\\mathbf{B} \\in \\{\\pm 1\\}^N}{\\operatorname{\\argmax}} ||\\mathbf{X} \\hat{\\mathbf{b}}||_2 = \\underset{\\mathbf{B} \\in \\{\\pm 1\\}^N}{\\operatorname{\\argmax}} \\: \\hat{\\mathbf{b}}^T \\mathbf{X}^T\\mathbf{X} \\hat{\\mathbf{b}} \n",
    "$$\n",
    "This binary quadratic form is formally an [NP-hard problem](https://arxiv.org/abs/2301.06978)!!! These are magic words for quantum nerds. We can then rewrite this formulation in Ising form as:\n",
    "$$\n",
    "\\mathbf{b_{opt}} = \\underset{\\hat{\\mathbf{b}}\\in\\{\\pm 1\\}^N}{\\operatorname{\\argmin}} \\hspace{2mm} \\hat{\\mathbf{b}}^T\\left( - \\mathbf{X}^T\\mathbf{X} \\right)\\hat{\\mathbf{b}} = \\underset{\\hat{\\mathbf{b}}\\in\\{\\pm 1\\}^N}{\\operatorname{\\argmin}} \\hspace{2mm} \\hat{\\mathbf{b}}^T(-\\mathbf{J})\\hat{\\mathbf{b}}\n",
    "$$\n",
    "where $J$ represents the covariance matrix.  \n",
    "\n",
    "We can iteratively anneal and update the covariance matrix to solve for one principal component at a time.  \n",
    "We offer functions and descriptions, as well as the steps for calling. We recommend implementing helper functions yourself instead of using packages. At one step you should use some optimizer package, e.g. dual_annealing from scipy.optimize."
   ]
  },
  {
   "cell_type": "code",
   "execution_count": null,
   "id": "b0d13d6a",
   "metadata": {},
   "outputs": [],
   "source": [
    "def solve_covariance_matrix(sample_data):\n",
    "    \"\"\"Calculate covariance matrix for given sample data\"\"\"\n",
    "    return None  # TODO\n",
    "\n",
    "def l1_objective(b, J):\n",
    "    \"\"\"\n",
    "    Compute the L1 PCA objective function.\n",
    "\n",
    "    Parameters:\n",
    "    -----------\n",
    "    b : numpy.ndarray\n",
    "        The current component vector (will be reshaped to column vector)\n",
    "    J : numpy.ndarray\n",
    "        The covariance matrix or modified covariance matrix for the optimization\n",
    "        \n",
    "    Returns:\n",
    "    --------\n",
    "    float\n",
    "        The l1 objective function value\n",
    "    \"\"\"\n",
    "    return None  # TODO\n",
    "\n",
    "def solve_l1_classical_component(J):\n",
    "    \"\"\"\n",
    "    Solve for a single L1 PCA component using simulated annealing.\n",
    "    \n",
    "    This function finds the k-th principal component by optimizing the L1 objective\n",
    "    function. For k > 0, it ensures orthogonality with previous components by\n",
    "    modifying the covariance matrix to ignore the subspace spanned by previous\n",
    "    components.\n",
    "    \n",
    "    Parameters:\n",
    "    -----------\n",
    "    J : numpy.ndarray\n",
    "        The covariance matrix (samples x samples)\n",
    "        \n",
    "    Returns:\n",
    "    --------\n",
    "    tuple\n",
    "        A tuple containing:\n",
    "        - numpy.ndarray: The normalized component vector\n",
    "        - numpy.ndarray: Covariance matrix, now orthogonal to the kth principal component\n",
    "    \"\"\"\n",
    "    # TODO\n",
    "    return None, J\n",
    "\n",
    "def do_l1_pca(sample_data, K, get_component_func=solve_l1_classical_component):\n",
    "    \"\"\"Gets K principal components\"\"\"\n",
    "    J = solve_covariance_matrix(sample_data)\n",
    "    components = []\n",
    "    r = None\n",
    "\n",
    "    for k in range(K):\n",
    "        r, J = get_component_func(J)\n",
    "        components.append(r)\n",
    "    \n",
    "    return np.vstack(components).T"
   ]
  },
  {
   "cell_type": "code",
   "execution_count": null,
   "id": "a06029b8",
   "metadata": {},
   "outputs": [],
   "source": [
    "pca_embeddings = do_l1_pca(ticker_data, 1, solve_l1_classical_component)"
   ]
  },
  {
   "cell_type": "markdown",
   "id": "4b462d75",
   "metadata": {},
   "source": [
    "## Step 3: Analyze results\n",
    "After doing PCA on our list of vectors, graph the encodings for each ticker and answer some of the following questions regarding the graph and implementation.\n",
    "1. Do sectors naturally emerge from the encodings for each ticker? \n",
    "2. Why did we need to use PCA to visualize how these sectors emerged?\n",
    "3. What does it mean for an algorithm to be *robust*? Why is it important for an algorithm to be robust?"
   ]
  },
  {
   "cell_type": "code",
   "execution_count": null,
   "id": "5ddf5629",
   "metadata": {},
   "outputs": [],
   "source": [
    "# code"
   ]
  },
  {
   "cell_type": "markdown",
   "id": "07d62556",
   "metadata": {},
   "source": [
    "#### ***Replace this block with your analysis***\n",
    "..."
   ]
  },
  {
   "cell_type": "markdown",
   "id": "a50349aa",
   "metadata": {},
   "source": [
    "## Step 4: Construct Ising Model for QAPCA-R\n",
    "**Instructions:**  \n",
    "After completing previous steps, we can now consider how we would run this problem in a format that a quantum computer could read. The model given in Eq. 8 of the paper, which is already included in the description for Step 2 of this prompt, is conveniently already very close to an Ising Model! Read more about Ising Models for an intuitive understanding. The coupling strengths of the Ising model are simply the elements of the covariance matrix $J$.  \n",
    "We recommend using the package neal's SimulatedAnnealingSampler for solving the Ising Model."
   ]
  },
  {
   "cell_type": "code",
   "execution_count": 2,
   "id": "628fcc7a",
   "metadata": {},
   "outputs": [],
   "source": [
    "def convert_J_to_ising_model(X):\n",
    "    \"\"\"\n",
    "    Converts covariance matrix J into dict of Ising Model couplings.\n",
    "    \"\"\"\n",
    "    return None  # TODO\n",
    "\n",
    "def solve_l1_qapca_r_component(J):\n",
    "    \"\"\"\n",
    "    Solve for a single L1 QAPCA component using simulated annealing.\n",
    "    \n",
    "    This function finds the k-th principal component by optimizing the L1 objective\n",
    "    function. For k > 0, it ensures orthogonality with previous components by\n",
    "    modifying the covariance matrix to ignore the subspace spanned by previous\n",
    "    components.\n",
    "    \n",
    "    Parameters:\n",
    "    -----------\n",
    "    J : numpy.ndarray\n",
    "        The covariance matrix (samples x samples)\n",
    "        \n",
    "    Returns:\n",
    "    --------\n",
    "    tuple\n",
    "        A tuple containing:\n",
    "        - numpy.ndarray: The normalized component vector\n",
    "        - numpy.ndarray: Covariance matrix, now orthogonal to the kth principal component\n",
    "    \"\"\"\n",
    "    return None, J"
   ]
  },
  {
   "cell_type": "code",
   "execution_count": null,
   "id": "2dea7fcd",
   "metadata": {},
   "outputs": [],
   "source": [
    "qapca_r_embeddings = do_l1_pca(ticker_data, 1, solve_l1_qapca_r_component)"
   ]
  },
  {
   "cell_type": "markdown",
   "id": "386e5e70",
   "metadata": {},
   "source": [
    "## Step 5: Analyze results\n",
    "Analyze your results! Include visuals and brief explanations for what the visuals represent. Also answer some of these questions:  \n",
    "1. How does Quantum Annealing work?\n",
    "2. What is an Ising Model?\n",
    "3. What are key differences between quantum and classical PCA with regards to results and implementation? Are the results guaranteed to be the same?"
   ]
  },
  {
   "cell_type": "markdown",
   "id": "13fae86b",
   "metadata": {},
   "source": [
    "#### ***Replace with your analysis***\n",
    "..."
   ]
  },
  {
   "cell_type": "markdown",
   "id": "ed71b672",
   "metadata": {},
   "source": [
    "## **BONUS:** \n",
    "Dig deeper into PCA, QA, and/or QAPCA! With any leftover time, explore alternative implementations and applications. We have listed out some ideas, but explore whatever inspires your team!  \n",
    "### Ideas:  \n",
    "1. **Test implementation on bigger dataset!** *Difficulty: 1/5*\n",
    "2. **Add outliers and test robustness!** *Difficulty: 2/5*\n",
    "3. **Implement your own annealing algorithm!** *Difficulty: 3/5*\n",
    "4. **Implement multi-component QAPCA** (section 3.2 of article)**!** *Difficulty: 5/5*\n",
    "5. **Run this on a quantum computer!** *Difficulty: 5/5*"
   ]
  },
  {
   "cell_type": "code",
   "execution_count": null,
   "id": "9488c23e",
   "metadata": {},
   "outputs": [],
   "source": [
    "# Code"
   ]
  },
  {
   "cell_type": "markdown",
   "id": "f779d09f",
   "metadata": {},
   "source": [
    "## **Final Step:** Present your findings and pitch your implementation. Why would a financial firm benefit from using your implementation?  \n",
    "Make sure to submit your presentation on time per QuantathonV2 rules! Understand that we don't care if you use AI, but we do very much care that everyone on your team learns about PCA, QA, and QAPCA!"
   ]
  },
  {
   "cell_type": "markdown",
   "id": "f4e9738b",
   "metadata": {},
   "source": [
    "# End of challenge. Good luck!"
   ]
  }
 ],
 "metadata": {
  "kernelspec": {
   "display_name": "port-sim",
   "language": "python",
   "name": "python3"
  },
  "language_info": {
   "codemirror_mode": {
    "name": "ipython",
    "version": 3
   },
   "file_extension": ".py",
   "mimetype": "text/x-python",
   "name": "python",
   "nbconvert_exporter": "python",
   "pygments_lexer": "ipython3",
   "version": "3.12.9"
  }
 },
 "nbformat": 4,
 "nbformat_minor": 5
}
